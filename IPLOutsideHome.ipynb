{
 "metadata": {
  "language_info": {
   "codemirror_mode": {
    "name": "ipython",
    "version": 3
   },
   "file_extension": ".py",
   "mimetype": "text/x-python",
   "name": "python",
   "nbconvert_exporter": "python",
   "pygments_lexer": "ipython3",
   "version": "3.8.0-final"
  },
  "orig_nbformat": 2,
  "kernelspec": {
   "name": "python37832bit88c225af01ca4779b74d9e34ec9a12f9",
   "display_name": "Python 3.7.8 32-bit"
  }
 },
 "nbformat": 4,
 "nbformat_minor": 2,
 "cells": [
  {
   "cell_type": "code",
   "execution_count": 1,
   "metadata": {},
   "outputs": [],
   "source": [
    "import pandas as pd"
   ]
  },
  {
   "cell_type": "code",
   "execution_count": 6,
   "metadata": {},
   "outputs": [],
   "source": [
    "d_parser = lambda x : pd.datetime.strptime (x, '%Y-%m-%d')\n",
    "df = pd.read_csv (\"../../../../DATA/IPL Matches 2008-2020.csv\", date_parser=d_parser, parse_dates=['date'])"
   ]
  },
  {
   "cell_type": "code",
   "execution_count": 7,
   "metadata": {},
   "outputs": [
    {
     "output_type": "stream",
     "name": "stdout",
     "text": [
      "<class 'pandas.core.frame.DataFrame'>\nRangeIndex: 816 entries, 0 to 815\nData columns (total 17 columns):\n #   Column           Non-Null Count  Dtype         \n---  ------           --------------  -----         \n 0   id               816 non-null    int64         \n 1   city             803 non-null    object        \n 2   date             816 non-null    datetime64[ns]\n 3   player_of_match  812 non-null    object        \n 4   venue            816 non-null    object        \n 5   neutral_venue    816 non-null    int64         \n 6   team1            816 non-null    object        \n 7   team2            816 non-null    object        \n 8   toss_winner      816 non-null    object        \n 9   toss_decision    816 non-null    object        \n 10  winner           812 non-null    object        \n 11  result           812 non-null    object        \n 12  result_margin    799 non-null    float64       \n 13  eliminator       812 non-null    object        \n 14  method           19 non-null     object        \n 15  umpire1          816 non-null    object        \n 16  umpire2          816 non-null    object        \ndtypes: datetime64[ns](1), float64(1), int64(2), object(13)\nmemory usage: 108.5+ KB\n"
     ]
    }
   ],
   "source": [
    "df.info()"
   ]
  },
  {
   "cell_type": "code",
   "execution_count": 12,
   "metadata": {},
   "outputs": [],
   "source": [
    "df = df.loc[df.date.dt.year > 2012]"
   ]
  },
  {
   "cell_type": "code",
   "execution_count": 15,
   "metadata": {},
   "outputs": [],
   "source": [
    "df.reset_index (drop=True, inplace=True)"
   ]
  },
  {
   "cell_type": "code",
   "execution_count": 17,
   "metadata": {},
   "outputs": [
    {
     "output_type": "execute_result",
     "data": {
      "text/plain": [
       "Mumbai           54\n",
       "Kolkata          49\n",
       "Hyderabad        46\n",
       "Delhi            46\n",
       "Bangalore        37\n",
       "Chandigarh       34\n",
       "Abu Dhabi        29\n",
       "Pune             29\n",
       "Dubai            26\n",
       "Chennai          24\n",
       "Jaipur           22\n",
       "Bengaluru        15\n",
       "Sharjah          12\n",
       "Visakhapatnam    11\n",
       "Rajkot           10\n",
       "Ahmedabad         8\n",
       "Ranchi            7\n",
       "Indore            7\n",
       "Raipur            6\n",
       "Kanpur            4\n",
       "Cuttack           3\n",
       "Dharamsala        2\n",
       "Name: city, dtype: int64"
      ]
     },
     "metadata": {},
     "execution_count": 17
    }
   ],
   "source": [
    "df.city.value_counts()"
   ]
  },
  {
   "cell_type": "code",
   "execution_count": null,
   "metadata": {},
   "outputs": [],
   "source": []
  }
 ]
}